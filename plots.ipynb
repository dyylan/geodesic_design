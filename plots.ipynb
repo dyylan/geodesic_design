{
 "cells": [
  {
   "cell_type": "code",
   "execution_count": 27,
   "id": "3dae11eb",
   "metadata": {},
   "outputs": [
    {
     "name": "stdout",
     "output_type": "stream",
     "text": [
      "Note: you may need to restart the kernel to use updated packages.\n"
     ]
    }
   ],
   "source": [
    "pip -q install SciencePlots"
   ]
  },
  {
   "cell_type": "code",
   "execution_count": 28,
   "id": "d0136656",
   "metadata": {},
   "outputs": [
    {
     "name": "stdout",
     "output_type": "stream",
     "text": [
      "The autoreload extension is already loaded. To reload it, use:\n",
      "  %reload_ext autoreload\n"
     ]
    }
   ],
   "source": [
    "%load_ext autoreload\n",
    "%autoreload 2"
   ]
  },
  {
   "cell_type": "code",
   "execution_count": 29,
   "id": "b7f878e6",
   "metadata": {
    "pycharm": {
     "name": "#%%\n"
    }
   },
   "outputs": [],
   "source": [
    "import numpy as np\n",
    "import matplotlib.pyplot as plt\n",
    "import os"
   ]
  },
  {
   "cell_type": "code",
   "execution_count": 30,
   "id": "caf972ca",
   "metadata": {
    "pycharm": {
     "name": "#%%\n"
    }
   },
   "outputs": [],
   "source": [
    "from gnd.src import basis, data"
   ]
  },
  {
   "cell_type": "code",
   "execution_count": 31,
   "id": "b20257c7",
   "metadata": {
    "pycharm": {
     "name": "#%%\n"
    }
   },
   "outputs": [],
   "source": [
    "plt.style.use('science')\n",
    "fontsize_title=22\n",
    "fontsize_label=22\n",
    "fontsize_legend=16\n",
    "fontsize_ticks=20"
   ]
  },
  {
   "cell_type": "code",
   "execution_count": 45,
   "id": "30e0c392",
   "metadata": {},
   "outputs": [],
   "source": [
    "def plot_comparison(num_steps_gnd, num_steps_sgd, num_steps_jaxgd, ntrials, name, title):\n",
    "    plt.figure(figsize=(8,5))\n",
    "#     plt.title(title, fontsize=fontsize_title)\n",
    "    plt.hist(num_steps_gnd, bins=[i+1 for i in range(110)], alpha=0.5, label=\"Geodesic algorithm\")\n",
    "    plt.hist(num_steps_sgd, bins=[i+1 for i in range(110)], alpha=0.5, label=\"Stochastic gradient descent\")\n",
    "    plt.hist(num_steps_jaxgd, bins=[i+1 for i in range(110)], alpha=0.5, label=\"Gradient descent\")\n",
    "    plt.xticks([0,20,40,60,80,100], fontsize=fontsize_ticks)\n",
    "    plt.yticks(fontsize=fontsize_ticks)\n",
    "\n",
    "    plt.xlabel(\"Steps to solution\", fontsize=fontsize_label)\n",
    "    plt.ylabel(f\"Number of solutions\", fontsize=fontsize_label)\n",
    "    plt.legend(fontsize=fontsize_legend)\n",
    "    plt.savefig(f\"{name}.pdf\", bbox_inches='tight')\n",
    "    plt.show()"
   ]
  },
  {
   "cell_type": "code",
   "execution_count": 46,
   "id": "73555b78",
   "metadata": {},
   "outputs": [],
   "source": [
    "def plot_fidelity(num_steps_gnd, max_fidelity_gnd, name, title):\n",
    "\n",
    "    plt.figure(figsize=(4,4))\n",
    "    plt.title(title, fontsize=fontsize_title)\n",
    "    plt.scatter(num_steps_gnd, 1 -  np.abs(max_fidelity_gnd), alpha=0.5, s=50)\n",
    "    plt.xlabel(f\"Steps to solution\", fontsize=fontsize_label)\n",
    "    plt.ylabel(f\"Maximum infidelity\", fontsize=fontsize_label)\n",
    "    plt.yscale('log')\n",
    "    plt.xscale('log')\n",
    "    plt.xlim(1, 10**4+1000)\n",
    "    plt.ylim(1e-6, 1.)\n",
    "    plt.savefig(f\"{name}.pdf\", bbox_inches='tight')\n",
    "    plt.show()"
   ]
  },
  {
   "cell_type": "code",
   "execution_count": 47,
   "id": "3cb1ffc7",
   "metadata": {},
   "outputs": [],
   "source": [
    "def get_data_comparison(config, config_gnd, seeds):\n",
    "    num_steps_gnd = []\n",
    "    num_steps_sgd = []\n",
    "    num_steps_jaxgd = []\n",
    "    max_fidelity_gnd = []\n",
    "    max_fidelity_sgd = []\n",
    "    max_fidelity_jaxgd = []\n",
    "    for seed in seeds:\n",
    "        print(f\"Collecting data for seed: {seed}\", end=\"\\r\")\n",
    "        config.seed = seed        \n",
    "        config_gnd.seed = seed\n",
    "\n",
    "        dat_gnd = data.OptimizationData(config_gnd, optimizers=[], load_data=True, folder=\"gnd/data\")\n",
    "        if dat_gnd.samples > 0:\n",
    "            num_steps_gnd.append(dat_gnd.steps(1)[-1])\n",
    "            max_fidelity_gnd.append(dat_gnd.max_fidelity(1))\n",
    "        dat_sgd = data.OptimizationData(config, optimizers=[], load_data=True, folder=\"innocenti/data\")\n",
    "        if dat_sgd.samples > 0:\n",
    "            num_steps_sgd.append(dat_sgd.steps(1)[-1])\n",
    "            max_fidelity_sgd.append(dat_sgd.max_fidelity(1))\n",
    "        dat_jaxgd = data.OptimizationData(config, optimizers=[], load_data=True, folder=\"jax_gd/data\")\n",
    "        if dat_jaxgd.samples > 0:\n",
    "            num_steps_jaxgd.append(dat_jaxgd.steps(1)[-1])\n",
    "            max_fidelity_jaxgd.append(dat_jaxgd.max_fidelity(1))\n",
    "    print(f\"Data integrity:\\n\"\n",
    "          f\"GND: {len(num_steps_gnd)}/{len(seeds)}\\n\"\n",
    "          f\"Innocenti: {len(num_steps_sgd)}/{len(seeds)}\\n\"\n",
    "          f\"Jax GD: {len(num_steps_jaxgd)}/{len(seeds)}\\n\")\n",
    "    max_fidelity_gnd = np.array(max_fidelity_gnd)\n",
    "    max_fidelity_sgd = np.array(max_fidelity_sgd)\n",
    "    max_fidelity_jaxgd = np.array(max_fidelity_jaxgd)\n",
    "    num_steps_gnd = np.array(num_steps_gnd)\n",
    "    num_steps_sgd = np.array(num_steps_sgd)\n",
    "    num_steps_jaxgd = np.array(num_steps_jaxgd)\n",
    "\n",
    "    print(f\"Number of solutions with fidelity {config.precision}:\\n\"\n",
    "          f\"GND: {sum(max_fidelity_gnd >= config.precision)}/{len(max_fidelity_gnd)}\\n\"\n",
    "          f\"Innocenti: {len(max_fidelity_sgd >= config.precision)}/{len(max_fidelity_sgd)}\\n\"\n",
    "          f\"Jax GD: {sum(max_fidelity_jaxgd >= config.precision)}/{len(max_fidelity_jaxgd)}\\n\")\n",
    "    print(\"Mean time to solution GND\", np.mean(num_steps_gnd[max_fidelity_gnd >= config.precision]))\n",
    "    print(\"Mean time to solution SGD\", np.mean(num_steps_sgd[max_fidelity_sgd >= config.precision]))\n",
    "    print(\"Mean time to solution JAXGD\", np.mean(num_steps_jaxgd[max_fidelity_jaxgd >= config.precision]))\n",
    "    \n",
    "    return num_steps_gnd, num_steps_sgd, num_steps_jaxgd"
   ]
  },
  {
   "cell_type": "code",
   "execution_count": 48,
   "id": "b3e4a467",
   "metadata": {},
   "outputs": [],
   "source": [
    "def get_data_fidelity(config, seeds):\n",
    "    num_steps_gnd = []\n",
    "    max_fidelity_gnd = []\n",
    "\n",
    "    for seed in seeds:\n",
    "        print(f\"Collecting data for seed: {seed}\", end=\"\\r\")\n",
    "        config.seed = seed        \n",
    "        dat_gnd = data.OptimizationData(config, optimizers=[], load_data=True, folder=\"gnd/data\")\n",
    "        if dat_gnd.samples > 0:\n",
    "            max_fidelity_gnd.append(dat_gnd.max_fidelity(1))\n",
    "            num_steps_gnd.append(dat_gnd.steps(1)[-1])\n",
    "    print(f\"Data integrity:\\n\"\n",
    "          f\"GND: {len(num_steps_gnd)}/{len(seeds)}\")\n",
    "    return num_steps_gnd, max_fidelity_gnd\n",
    "\n",
    "def get_data_fidelity_trajectories(config, seeds):\n",
    "    num_steps_gnd = []\n",
    "    max_fidelity_gnd = []\n",
    "\n",
    "    for seed in seeds:\n",
    "        print(f\"Collecting data for seed: {seed}\", end=\"\\r\")\n",
    "        config.seed = seed        \n",
    "        dat_gnd = data.OptimizationData(config, optimizers=[], load_data=True, folder=\"gnd/data\")\n",
    "        if dat_gnd.samples > 0:\n",
    "            max_fidelity_gnd.append(dat_gnd.fidelities(1))\n",
    "            num_steps_gnd.append(dat_gnd.steps(1))\n",
    "    print(f\"Data integrity:\\n\"\n",
    "          f\"GND: {len(num_steps_gnd)}/{len(seeds)}\")\n",
    "    return num_steps_gnd, max_fidelity_gnd"
   ]
  },
  {
   "cell_type": "markdown",
   "id": "be3abc27",
   "metadata": {},
   "source": [
    "# Data aggregation"
   ]
  },
  {
   "cell_type": "code",
   "execution_count": 49,
   "id": "655fe5b1",
   "metadata": {},
   "outputs": [],
   "source": [
    "loaded_data = {}"
   ]
  },
  {
   "cell_type": "markdown",
   "id": "501ee52f",
   "metadata": {
    "pycharm": {
     "name": "#%% md\n"
    }
   },
   "source": [
    "# Toffoli"
   ]
  },
  {
   "cell_type": "markdown",
   "id": "8a05f0e8",
   "metadata": {},
   "source": [
    "### Commuting"
   ]
  },
  {
   "cell_type": "code",
   "execution_count": 50,
   "id": "ee805bbb",
   "metadata": {
    "pycharm": {
     "name": "#%%\n"
    }
   },
   "outputs": [
    {
     "name": "stdout",
     "output_type": "stream",
     "text": [
      "Data integrity: for seed: 256000\n",
      "GND: 1000/1000\n",
      "Innocenti: 986/1000\n",
      "Jax GD: 1000/1000\n",
      "\n",
      "Number of solutions with fidelity 0.999:\n",
      "GND: 1000/1000\n",
      "Innocenti: 986/986\n",
      "Jax GD: 981/1000\n",
      "\n",
      "Mean time to solution GND 3.223\n",
      "Mean time to solution SGD 13.626774847870182\n",
      "Mean time to solution JAXGD 80.85117227319063\n"
     ]
    }
   ],
   "source": [
    "from gnd.src.configs import ToffoliConfig as ToffoliConfigGnd\n",
    "from jax_gd.src.configs import ToffoliConfig\n",
    "\n",
    "config = ToffoliConfig()\n",
    "config_gnd = ToffoliConfigGnd()\n",
    "\n",
    "gate = 'toffoli'\n",
    "ntrials = 1000\n",
    "commute = True\n",
    "max_steps = 1000\n",
    "\n",
    "config.max_steps = max_steps\n",
    "config_gnd.max_steps = max_steps\n",
    "config_gnd.commute = commute\n",
    "\n",
    "seeds = [n*256 for n in range(1,ntrials+1,1)] \n",
    "\n",
    "num_steps_gnd, num_steps_sgd, num_steps_jaxgd = get_data_comparison(config, config_gnd, seeds)\n",
    "loaded_data[f\"{gate}_{ntrials}_{commute}_{max_steps}\"] = (num_steps_gnd, num_steps_sgd, num_steps_jaxgd)"
   ]
  },
  {
   "cell_type": "code",
   "execution_count": 51,
   "id": "1df38419",
   "metadata": {},
   "outputs": [
    {
     "data": {
      "image/png": "[encoded data removed]",
      "text/plain": [
       "<Figure size 800x500 with 1 Axes>"
      ]
     },
     "metadata": {},
     "output_type": "display_data"
    },
    {
     "name": "stdout",
     "output_type": "stream",
     "text": [
      "mean gnd 3.223\n",
      "mean sgd 13.626774847870182\n",
      "mean gnd  98.315\n"
     ]
    }
   ],
   "source": [
    "gate = 'toffoli'\n",
    "ntrials = 1000\n",
    "commute = True\n",
    "max_steps = 1000\n",
    "\n",
    "num_steps_gnd, num_steps_sgd, num_steps_jaxgd = loaded_data[f\"{gate}_{ntrials}_{commute}_{max_steps}\"]\n",
    "\n",
    "name = f\"plots/{gate}_gate_comparison_max_steps_{max_steps}_commutes_{commute}\"\n",
    "plot_comparison(num_steps_gnd, num_steps_sgd, num_steps_jaxgd, ntrials, name, \n",
    "                f\"Toffoli ({'Comm.' if commute else 'Non-comm.'})\")\n",
    "\n",
    "print(f'mean gnd {np.mean(num_steps_gnd)}')\n",
    "print(f'mean sgd {np.mean(num_steps_sgd)}')\n",
    "print(f'mean gnd  {np.mean(num_steps_jaxgd)}')"
   ]
  },
  {
   "cell_type": "markdown",
   "id": "30691bab",
   "metadata": {},
   "source": [
    "### Non-commuting"
   ]
  },
  {
   "cell_type": "code",
   "execution_count": 52,
   "id": "2e1e936f",
   "metadata": {},
   "outputs": [
    {
     "name": "stdout",
     "output_type": "stream",
     "text": [
      "Data integrity: for seed: 256000\n",
      "GND: 983/1000\n",
      "Innocenti: 986/1000\n",
      "Jax GD: 1000/1000\n",
      "\n",
      "Number of solutions with fidelity 0.999:\n",
      "GND: 982/983\n",
      "Innocenti: 986/986\n",
      "Jax GD: 981/1000\n",
      "\n",
      "Mean time to solution GND 18.66089613034623\n",
      "Mean time to solution SGD 13.626774847870182\n",
      "Mean time to solution JAXGD 80.85117227319063\n"
     ]
    }
   ],
   "source": [
    "from gnd.src.configs import ToffoliConfig as ToffoliConfigGnd\n",
    "from jax_gd.src.configs import ToffoliConfig\n",
    "\n",
    "config = ToffoliConfig()\n",
    "config_gnd = ToffoliConfigGnd()\n",
    "\n",
    "gate = 'toffoli'\n",
    "ntrials = 1000\n",
    "commute = False\n",
    "max_steps = 1000\n",
    "\n",
    "config.max_steps = max_steps\n",
    "config_gnd.max_steps = max_steps\n",
    "config_gnd.commute = commute\n",
    "\n",
    "seeds = [n*256 for n in range(1,ntrials+1,1)] \n",
    "\n",
    "num_steps_gnd, num_steps_sgd, num_steps_jaxgd = get_data_comparison(config, config_gnd, seeds)\n",
    "loaded_data[f\"{gate}_{ntrials}_{commute}_{max_steps}\"] = (num_steps_gnd, num_steps_sgd, num_steps_jaxgd)"
   ]
  },
  {
   "cell_type": "code",
   "execution_count": 53,
   "id": "417cf6c9",
   "metadata": {},
   "outputs": [
    {
     "data": {
      "image/png": "[encoded data removed]",
      "text/plain": [
       "<Figure size 800x500 with 1 Axes>"
      ]
     },
     "metadata": {},
     "output_type": "display_data"
    },
    {
     "name": "stdout",
     "output_type": "stream",
     "text": [
      "mean gnd 19.65920651068159\n",
      "mean sgd 13.626774847870182\n",
      "mean gnd  98.315\n"
     ]
    }
   ],
   "source": [
    "gate = 'toffoli'\n",
    "ntrials = 1000\n",
    "commute = False\n",
    "max_steps = 1000\n",
    "\n",
    "num_steps_gnd, num_steps_sgd, num_steps_jaxgd = loaded_data[f\"{gate}_{ntrials}_{commute}_{max_steps}\"]\n",
    "name = f\"plots/{gate}_gate_comparison_max_steps_{max_steps}_commutes_{commute}\"\n",
    "plot_comparison(num_steps_gnd, num_steps_sgd, num_steps_jaxgd, ntrials, name, \n",
    "                f\"Toffoli ({'Comm.' if commute else 'Non-comm.'})\")\n",
    "\n",
    "print(f'mean gnd {np.mean(num_steps_gnd)}')\n",
    "print(f'mean sgd {np.mean(num_steps_sgd)}')\n",
    "print(f'mean gnd  {np.mean(num_steps_jaxgd)}')"
   ]
  },
  {
   "cell_type": "markdown",
   "id": "066a4b6d",
   "metadata": {},
   "source": [
    "# Fredkin"
   ]
  },
  {
   "cell_type": "markdown",
   "id": "1e7bc8bb",
   "metadata": {},
   "source": [
    "### Commuting"
   ]
  },
  {
   "cell_type": "code",
   "execution_count": 54,
   "id": "878ced2a",
   "metadata": {},
   "outputs": [
    {
     "name": "stdout",
     "output_type": "stream",
     "text": [
      "Data integrity: for seed: 256000\n",
      "GND: 1000/1000\n",
      "Innocenti: 994/1000\n",
      "Jax GD: 1000/1000\n",
      "\n",
      "Number of solutions with fidelity 0.999:\n",
      "GND: 993/1000\n",
      "Innocenti: 994/994\n",
      "Jax GD: 715/1000\n",
      "\n",
      "Mean time to solution GND 7.619335347432024\n",
      "Mean time to solution SGD 21.367203219315897\n",
      "Mean time to solution JAXGD 85.8013986013986\n"
     ]
    }
   ],
   "source": [
    "from gnd.src.configs import FredkinConfig as FredkinConfigGnd\n",
    "from jax_gd.src.configs import FredkinConfig\n",
    "\n",
    "config = FredkinConfig()\n",
    "config_gnd = FredkinConfigGnd()\n",
    "\n",
    "gate = 'fredkin'\n",
    "ntrials = 1000\n",
    "commute = True\n",
    "max_steps = 1000\n",
    "\n",
    "config.max_steps = max_steps\n",
    "config_gnd.max_steps = max_steps\n",
    "config_gnd.commute = commute\n",
    "\n",
    "seeds = [n*256 for n in range(1,ntrials+1,1)] \n",
    "\n",
    "num_steps_gnd, num_steps_sgd, num_steps_jaxgd = get_data_comparison(config, config_gnd, seeds)\n",
    "loaded_data[f\"{gate}_{ntrials}_{commute}_{max_steps}\"] = (num_steps_gnd, num_steps_sgd, num_steps_jaxgd)"
   ]
  },
  {
   "cell_type": "code",
   "execution_count": 55,
   "id": "f3f903ac",
   "metadata": {},
   "outputs": [
    {
     "data": {
      "image/png": "[encoded data removed]",
      "text/plain": [
       "<Figure size 800x500 with 1 Axes>"
      ]
     },
     "metadata": {},
     "output_type": "display_data"
    },
    {
     "name": "stdout",
     "output_type": "stream",
     "text": [
      "mean gnd 14.566\n",
      "mean sgd 21.367203219315897\n",
      "mean gnd  346.348\n"
     ]
    }
   ],
   "source": [
    "gate = 'fredkin'\n",
    "ntrials = 1000\n",
    "commute = True\n",
    "max_steps = 1000\n",
    "\n",
    "num_steps_gnd, num_steps_sgd, num_steps_jaxgd = loaded_data[f\"{gate}_{ntrials}_{commute}_{max_steps}\"]\n",
    "\n",
    "name = f\"plots/{gate}_gate_comparison_max_steps_{max_steps}_commutes_{commute}\"\n",
    "plot_comparison(num_steps_gnd, num_steps_sgd, num_steps_jaxgd, ntrials, name,\n",
    "                f\"Fredkin ({'Comm.' if commute else 'Non-comm.'})\")\n",
    "\n",
    "print(f'mean gnd {np.mean(num_steps_gnd)}')\n",
    "print(f'mean sgd {np.mean(num_steps_sgd)}')\n",
    "print(f'mean gnd  {np.mean(num_steps_jaxgd)}')"
   ]
  },
  {
   "cell_type": "markdown",
   "id": "0e5213fd",
   "metadata": {},
   "source": [
    "### Non-commuting"
   ]
  },
  {
   "cell_type": "code",
   "execution_count": 56,
   "id": "54a11472",
   "metadata": {},
   "outputs": [
    {
     "name": "stdout",
     "output_type": "stream",
     "text": [
      "Data integrity: for seed: 256000\n",
      "GND: 892/1000\n",
      "Innocenti: 994/1000\n",
      "Jax GD: 1000/1000\n",
      "\n",
      "Number of solutions with fidelity 0.999:\n",
      "GND: 884/892\n",
      "Innocenti: 994/994\n",
      "Jax GD: 715/1000\n",
      "\n",
      "Mean time to solution GND 22.631221719457013\n",
      "Mean time to solution SGD 21.367203219315897\n",
      "Mean time to solution JAXGD 85.8013986013986\n"
     ]
    }
   ],
   "source": [
    "from gnd.src.configs import FredkinConfig as FredkinConfigGnd\n",
    "from jax_gd.src.configs import FredkinConfig\n",
    "\n",
    "config = FredkinConfig()\n",
    "config_gnd = FredkinConfigGnd()\n",
    "\n",
    "gate = 'fredkin'\n",
    "ntrials = 1000\n",
    "commute = False\n",
    "max_steps = 1000\n",
    "\n",
    "config.max_steps = max_steps\n",
    "config_gnd.max_steps = max_steps\n",
    "config_gnd.commute = commute\n",
    "\n",
    "seeds = [n*256 for n in range(1,ntrials+1,1)] \n",
    "\n",
    "num_steps_gnd, num_steps_sgd, num_steps_jaxgd = get_data_comparison(config, config_gnd, seeds)\n",
    "loaded_data[f\"{gate}_{ntrials}_{commute}_{max_steps}\"] = (num_steps_gnd, num_steps_sgd, num_steps_jaxgd)"
   ]
  },
  {
   "cell_type": "code",
   "execution_count": 57,
   "id": "87ff5b83",
   "metadata": {},
   "outputs": [
    {
     "data": {
      "image/png": "[encoded data removed]",
      "text/plain": [
       "<Figure size 800x500 with 1 Axes>"
      ]
     },
     "metadata": {},
     "output_type": "display_data"
    },
    {
     "name": "stdout",
     "output_type": "stream",
     "text": [
      "mean gnd 31.396860986547086\n",
      "mean sgd 21.367203219315897\n",
      "mean gnd  346.348\n"
     ]
    }
   ],
   "source": [
    "gate = 'fredkin'\n",
    "ntrials = 1000\n",
    "commute = False\n",
    "max_steps = 1000\n",
    "\n",
    "num_steps_gnd, num_steps_sgd, num_steps_jaxgd = loaded_data[f\"{gate}_{ntrials}_{commute}_{max_steps}\"]\n",
    "name = f\"plots/{gate}_gate_comparison_max_steps_{max_steps}_commutes_{commute}\"\n",
    "plot_comparison(num_steps_gnd, num_steps_sgd, num_steps_jaxgd, ntrials, name,\n",
    "                f\"Fredkin ({'Comm.' if commute else 'Non-comm.'})\")\n",
    "\n",
    "print(f'mean gnd {np.mean(num_steps_gnd)}')\n",
    "print(f'mean sgd {np.mean(num_steps_sgd)}')\n",
    "print(f'mean gnd  {np.mean(num_steps_jaxgd)}')"
   ]
  },
  {
   "cell_type": "markdown",
   "id": "3147f4e0",
   "metadata": {},
   "source": [
    "# C4Not"
   ]
  },
  {
   "cell_type": "markdown",
   "id": "cb3b3c09",
   "metadata": {},
   "source": [
    "### Commuting"
   ]
  },
  {
   "cell_type": "code",
   "execution_count": 19,
   "id": "77f7e023",
   "metadata": {},
   "outputs": [
    {
     "name": "stdout",
     "output_type": "stream",
     "text": [
      "Collecting data for seed: 114944\r"
     ]
    },
    {
     "name": "stderr",
     "output_type": "stream",
     "text": [
      "\n",
      "KeyboardInterrupt\n",
      "\n"
     ]
    }
   ],
   "source": [
    "from gnd.src.configs import CxNotConfig as CxNotConfigGnd\n",
    "from jax_gd.src.configs import CxNotConfig\n",
    "\n",
    "config = CxNotConfig(4)\n",
    "config_gnd = CxNotConfigGnd(4)\n",
    "\n",
    "gate = 'c4not'\n",
    "ntrials = 1000\n",
    "commute = True\n",
    "max_steps = 5000\n",
    "\n",
    "config.max_steps = max_steps\n",
    "config_gnd.max_steps = max_steps\n",
    "config_gnd.commute = commute\n",
    "\n",
    "seeds = [n*256 for n in range(1,ntrials+1,1)] \n",
    "\n",
    "num_steps_gnd, num_steps_sgd, num_steps_jaxgd = get_data_comparison(config, config_gnd, seeds)\n",
    "loaded_data[f\"{gate}_{ntrials}_{commute}_{max_steps}\"] = (num_steps_gnd, num_steps_sgd, num_steps_jaxgd)"
   ]
  },
  {
   "cell_type": "code",
   "execution_count": null,
   "id": "c9790ab9",
   "metadata": {},
   "outputs": [],
   "source": [
    "gate = 'c4not'\n",
    "ntrials = 1000\n",
    "commute = True\n",
    "max_steps = 5000\n",
    "\n",
    "num_steps_gnd, num_steps_sgd, num_steps_jaxgd = loaded_data[f\"{gate}_{ntrials}_{commute}_{max_steps}\"]\n",
    "num_steps_gnd=np.array(num_steps_gnd)\n",
    "num_steps_sgd=np.array(num_steps_sgd)\n",
    "num_steps_jaxgd=np.array(num_steps_jaxgd)\n",
    "\n",
    "plt.hist(num_steps_gnd[num_steps_gnd<1000], bins=100, alpha=0.5, label='gnd')\n",
    "plt.hist(num_steps_sgd[num_steps_sgd<1000], bins=100, alpha=0.5, label='sgd')\n",
    "plt.hist(num_steps_jaxgd[num_steps_jaxgd<1000], bins=100, alpha=0.5, label='sgd')\n",
    "plt.legend()\n",
    "plt.show()\n",
    "name = f\"plots/{gate}_gate_comparison_max_steps_{max_steps}_commutes_{commute}\"\n",
    "plot_comparison(num_steps_gnd, num_steps_sgd, num_steps_jaxgd, ntrials, name,\n",
    "                f\"C4Not ({'Comm.' if commute else 'Non-comm.'})\")"
   ]
  },
  {
   "cell_type": "markdown",
   "id": "fb5cb855",
   "metadata": {},
   "source": [
    "### Non-commuting"
   ]
  },
  {
   "cell_type": "code",
   "execution_count": null,
   "id": "0c385e17",
   "metadata": {},
   "outputs": [],
   "source": [
    "from gnd.src.configs import CxNotConfig as CxNotConfigGnd\n",
    "from jax_gd.src.configs import CxNotConfig\n",
    "\n",
    "config = CxNotConfig(4)\n",
    "config_gnd = CxNotConfigGnd(4)\n",
    "\n",
    "gate = 'c4not'\n",
    "ntrials = 1000\n",
    "commute = False\n",
    "max_steps = 5000\n",
    "\n",
    "config.max_steps = max_steps\n",
    "config_gnd.max_steps = max_steps\n",
    "config_gnd.commute = commute\n",
    "\n",
    "seeds = [n*256 for n in range(1,ntrials+1,1)] \n",
    "\n",
    "num_steps_gnd, num_steps_sgd, num_steps_jaxgd = get_data_comparison(config, config_gnd, seeds)\n",
    "loaded_data[f\"{gate}_{ntrials}_{commute}_{max_steps}\"] = (num_steps_gnd, num_steps_sgd, num_steps_jaxgd)"
   ]
  },
  {
   "cell_type": "code",
   "execution_count": null,
   "id": "0cfc0e6e",
   "metadata": {},
   "outputs": [],
   "source": [
    "gate = 'c4not'\n",
    "ntrials = 1000\n",
    "commute = False\n",
    "max_steps = 5000\n",
    "\n",
    "num_steps_gnd, num_steps_sgd, num_steps_jaxgd = loaded_data[f\"{gate}_{ntrials}_{commute}_{max_steps}\"]\n",
    "num_steps_gnd=np.array(num_steps_gnd)\n",
    "num_steps_sgd=np.array(num_steps_sgd)\n",
    "num_steps_jaxgd=np.array(num_steps_jaxgd)\n",
    "plt.figure()\n",
    "plt.hist(num_steps_gnd[num_steps_gnd<1000], bins=100, alpha=0.5, label='gnd')\n",
    "plt.hist(num_steps_sgd[num_steps_sgd<1000], bins=100, alpha=0.5, label='sgd')\n",
    "plt.hist(num_steps_jaxgd[num_steps_jaxgd<1000], bins=100, alpha=0.5, label='sgd')\n",
    "plt.legend()\n",
    "plt.show()\n",
    "name = f\"plots/{gate}_gate_comparison_max_steps_{max_steps}_commutes_{commute}\"\n",
    "plot_comparison(num_steps_gnd, num_steps_sgd, num_steps_jaxgd, ntrials, name,\n",
    "                f\"C4Not ({'Comm.' if commute else 'Non-comm.'})\")"
   ]
  },
  {
   "cell_type": "markdown",
   "id": "26107f5a",
   "metadata": {},
   "source": [
    "# Fidelity plots\n",
    "We only consider the non-commuting options here."
   ]
  },
  {
   "cell_type": "markdown",
   "id": "71c73aca",
   "metadata": {},
   "source": [
    "# C5Not"
   ]
  },
  {
   "cell_type": "markdown",
   "id": "239a9720",
   "metadata": {},
   "source": [
    "### Commuting"
   ]
  },
  {
   "cell_type": "code",
   "execution_count": null,
   "id": "fb393605",
   "metadata": {
    "pycharm": {
     "name": "#%%\n"
    }
   },
   "outputs": [],
   "source": [
    "from gnd.src.configs import CxNotConfig as CxNotConfigGnd\n",
    "\n",
    "config = CxNotConfigGnd(5)\n",
    "\n",
    "gate = 'c5not'\n",
    "ntrials = 10\n",
    "commute = True\n",
    "max_steps = 10000\n",
    "\n",
    "config.max_steps = max_steps\n",
    "config.max_steps = max_steps\n",
    "config.commute = commute\n",
    "\n",
    "seeds = [n*256 for n in range(1, ntrials+1, 1)] \n",
    "\n",
    "num_steps_gnd, max_fidelity_gnd = get_data_fidelity(config, seeds)\n",
    "num_steps_gnd_traj, max_fidelity_gnd_traj = get_data_fidelity_trajectories(config, seeds)\n",
    "\n",
    "loaded_data[f\"{gate}_{ntrials}_{commute}_{max_steps}_fid\"] = (num_steps_gnd, max_fidelity_gnd)\n",
    "loaded_data[f\"{gate}_{ntrials}_{commute}_{max_steps}_fid_traj\"] = (num_steps_gnd_traj, max_fidelity_gnd_traj)"
   ]
  },
  {
   "cell_type": "code",
   "execution_count": null,
   "id": "5bd62a38",
   "metadata": {},
   "outputs": [],
   "source": [
    "gate = 'c5not'\n",
    "ntrials = 10\n",
    "commute = True\n",
    "max_steps = 10000\n",
    "\n",
    "num_steps_gnd, max_fidelity_gnd= loaded_data[f\"{gate}_{ntrials}_{commute}_{max_steps}_fid\"] \n",
    "name = f\"plots/{gate}_gate_fidelity_max_steps_{max_steps}_commutes_{commute}\"\n",
    "plot_fidelity(num_steps_gnd, max_fidelity_gnd, name, f\"C5Not ({'Comm.' if commute else 'Non-comm.'})\")"
   ]
  },
  {
   "cell_type": "markdown",
   "id": "c92bb09a",
   "metadata": {},
   "source": [
    "### Non-commuting"
   ]
  },
  {
   "cell_type": "code",
   "execution_count": null,
   "id": "29757e47",
   "metadata": {},
   "outputs": [],
   "source": [
    "from gnd.src.configs import CxNotConfig as CxNotConfigGnd\n",
    "\n",
    "config = CxNotConfigGnd(5)\n",
    "\n",
    "gate = 'c5not'\n",
    "ntrials = 10\n",
    "commute = False\n",
    "max_steps = 10000\n",
    "\n",
    "config.max_steps = max_steps\n",
    "config.max_steps = max_steps\n",
    "config.commute = commute\n",
    "\n",
    "seeds = [n*256 for n in range(1, ntrials+1, 1)] \n",
    "\n",
    "num_steps_gnd, max_fidelity_gnd = get_data_fidelity(config, seeds)\n",
    "num_steps_gnd_traj, max_fidelity_gnd_traj = get_data_fidelity_trajectories(config, seeds)\n",
    "\n",
    "loaded_data[f\"{gate}_{ntrials}_{commute}_{max_steps}_fid\"] = (num_steps_gnd, max_fidelity_gnd)\n",
    "loaded_data[f\"{gate}_{ntrials}_{commute}_{max_steps}_fid_traj\"] = (num_steps_gnd_traj, max_fidelity_gnd_traj)"
   ]
  },
  {
   "cell_type": "code",
   "execution_count": null,
   "id": "3122f4e0",
   "metadata": {},
   "outputs": [],
   "source": [
    "gate = 'c5not'\n",
    "ntrials = 10\n",
    "commute = False\n",
    "max_steps = 10000\n",
    "\n",
    "num_steps_gnd, max_fidelity_gnd = loaded_data[f\"{gate}_{ntrials}_{commute}_{max_steps}_fid\"] \n",
    "name = f\"plots/{gate}_gate_fidelity_max_steps_{max_steps}_commutes_{commute}\"\n",
    "plot_fidelity(num_steps_gnd, max_fidelity_gnd, name, f\"C5Not ({'Comm.' if commute else 'Non-comm.'})\")"
   ]
  },
  {
   "cell_type": "markdown",
   "id": "5a7cea70",
   "metadata": {},
   "source": [
    "# Weight2ParityX"
   ]
  },
  {
   "cell_type": "markdown",
   "id": "5106bdb4",
   "metadata": {},
   "source": [
    "### Commuting"
   ]
  },
  {
   "cell_type": "code",
   "execution_count": null,
   "id": "ca2b5d07",
   "metadata": {},
   "outputs": [],
   "source": [
    "from gnd.src.configs import Weight2ParityXConfig\n",
    "\n",
    "config = Weight2ParityXConfig()\n",
    "\n",
    "gate = 'w3px'\n",
    "ntrials = 10\n",
    "commute = True\n",
    "max_steps = 10000\n",
    "\n",
    "config.max_steps = max_steps\n",
    "config.max_steps = max_steps\n",
    "config.commute = commute\n",
    "\n",
    "seeds = [n*256 for n in range(1, ntrials+1, 1)] \n",
    "\n",
    "num_steps_gnd, max_fidelity_gnd = get_data_fidelity(config, seeds)\n",
    "num_steps_gnd_traj, max_fidelity_gnd_traj = get_data_fidelity_trajectories(config, seeds)\n",
    "\n",
    "loaded_data[f\"{gate}_{ntrials}_{commute}_{max_steps}_fid\"] = (num_steps_gnd, max_fidelity_gnd)\n",
    "loaded_data[f\"{gate}_{ntrials}_{commute}_{max_steps}_fid_traj\"] = (num_steps_gnd_traj, max_fidelity_gnd_traj)"
   ]
  },
  {
   "cell_type": "code",
   "execution_count": null,
   "id": "fafcadb8",
   "metadata": {},
   "outputs": [],
   "source": [
    "gate = 'w2px'\n",
    "ntrials = 10\n",
    "commute = True\n",
    "max_steps = 10000\n",
    "\n",
    "num_steps_gnd, max_fidelity_gnd = loaded_data[f\"{gate}_{ntrials}_{commute}_{max_steps}_fid\"] \n",
    "name = f\"plots/{gate}_gate_fidelity_max_steps_{max_steps}_commutes_{commute}\"\n",
    "plot_fidelity(num_steps_gnd, max_fidelity_gnd, name, f\"Weight2ParityX ({'Comm.' if commute else 'Non-comm.'})\")"
   ]
  },
  {
   "cell_type": "markdown",
   "id": "264af0c2",
   "metadata": {},
   "source": [
    "### Non-commuting"
   ]
  },
  {
   "cell_type": "code",
   "execution_count": null,
   "id": "f8e300a1",
   "metadata": {},
   "outputs": [],
   "source": [
    "from gnd.src.configs import Weight2ParityXConfig\n",
    "\n",
    "config = Weight2ParityXConfig()\n",
    "\n",
    "gate = 'w2px'\n",
    "ntrials = 10\n",
    "commute = False\n",
    "max_steps = 10000\n",
    "\n",
    "config.max_steps = max_steps\n",
    "config.max_steps = max_steps\n",
    "config.commute = commute\n",
    "\n",
    "seeds = [n*256 for n in range(1, ntrials+1, 1)] \n",
    "\n",
    "num_steps_gnd, max_fidelity_gnd = get_data_fidelity(config, seeds)\n",
    "num_steps_gnd_traj, max_fidelity_gnd_traj = get_data_fidelity_trajectories(config, seeds)\n",
    "\n",
    "loaded_data[f\"{gate}_{ntrials}_{commute}_{max_steps}_fid\"] = (num_steps_gnd, max_fidelity_gnd)\n",
    "loaded_data[f\"{gate}_{ntrials}_{commute}_{max_steps}_fid_traj\"] = (num_steps_gnd_traj, max_fidelity_gnd_traj)"
   ]
  },
  {
   "cell_type": "code",
   "execution_count": null,
   "id": "4e87f05e",
   "metadata": {},
   "outputs": [],
   "source": [
    "gate = 'w2px'\n",
    "ntrials = 10\n",
    "commute = False\n",
    "max_steps = 10000\n",
    "\n",
    "num_steps_gnd, max_fidelity_gnd = loaded_data[f\"{gate}_{ntrials}_{commute}_{max_steps}_fid\"] \n",
    "name = f\"plots/{gate}_gate_fidelity_max_steps_{max_steps}_commutes_{commute}\"\n",
    "plot_fidelity(num_steps_gnd, max_fidelity_gnd, name, f\"Weight2ParityX ({'Comm.' if commute else 'Non-comm.'})\")"
   ]
  },
  {
   "cell_type": "markdown",
   "id": "f27d70a4",
   "metadata": {},
   "source": [
    "# Weight2ParityZ"
   ]
  },
  {
   "cell_type": "markdown",
   "id": "28d412b6",
   "metadata": {},
   "source": [
    "### Commuting"
   ]
  },
  {
   "cell_type": "code",
   "execution_count": null,
   "id": "80f2f6ea",
   "metadata": {},
   "outputs": [],
   "source": [
    "from gnd.src.configs import Weight2ParityZConfig\n",
    "\n",
    "config = Weight2ParityZConfig()\n",
    "\n",
    "gate = 'w2pz'\n",
    "ntrials = 10\n",
    "commute = False\n",
    "max_steps = 10000\n",
    "\n",
    "config.max_steps = max_steps\n",
    "config.max_steps = max_steps\n",
    "config.commute = commute\n",
    "\n",
    "seeds = [n*256 for n in range(1, ntrials+1, 1)] \n",
    "\n",
    "num_steps_gnd, max_fidelity_gnd = get_data_fidelity(config, seeds)\n",
    "num_steps_gnd_traj, max_fidelity_gnd_traj = get_data_fidelity_trajectories(config, seeds)\n",
    "\n",
    "loaded_data[f\"{gate}_{ntrials}_{commute}_{max_steps}_fid\"] = (num_steps_gnd, max_fidelity_gnd)\n",
    "loaded_data[f\"{gate}_{ntrials}_{commute}_{max_steps}_fid_traj\"] = (num_steps_gnd_traj, max_fidelity_gnd_traj)"
   ]
  },
  {
   "cell_type": "code",
   "execution_count": null,
   "id": "a1b063e5",
   "metadata": {},
   "outputs": [],
   "source": [
    "gate = 'w2pz'\n",
    "ntrials = 10\n",
    "commute = False\n",
    "max_steps = 10000\n",
    "\n",
    "num_steps_gnd, max_fidelity_gnd = loaded_data[f\"{gate}_{ntrials}_{commute}_{max_steps}_fid\"] \n",
    "name = f\"plots/{gate}_gate_fidelity_max_steps_{max_steps}_commutes_{commute}\"\n",
    "plot_fidelity(num_steps_gnd, max_fidelity_gnd, name, f\"Weight2ParityZ ({'Comm.' if commute else 'Non-comm.'})\")"
   ]
  },
  {
   "cell_type": "code",
   "execution_count": null,
   "id": "1f75cf29",
   "metadata": {},
   "outputs": [],
   "source": []
  },
  {
   "cell_type": "code",
   "execution_count": null,
   "id": "e0638bef",
   "metadata": {},
   "outputs": [],
   "source": []
  },
  {
   "cell_type": "markdown",
   "id": "94400be7",
   "metadata": {},
   "source": [
    "# Weight3ParityX"
   ]
  },
  {
   "cell_type": "markdown",
   "id": "34adfc1a",
   "metadata": {},
   "source": [
    "### Commuting"
   ]
  },
  {
   "cell_type": "code",
   "execution_count": null,
   "id": "2be4790c",
   "metadata": {},
   "outputs": [],
   "source": [
    "from gnd.src.configs import Weight3ParityXConfig\n",
    "\n",
    "config = Weight3ParityXConfig()\n",
    "\n",
    "gate = 'w3px'\n",
    "ntrials = 10\n",
    "commute = True\n",
    "max_steps = 10000\n",
    "\n",
    "config.max_steps = max_steps\n",
    "config.max_steps = max_steps\n",
    "config.commute = commute\n",
    "\n",
    "seeds = [n*256 for n in range(1, ntrials+1, 1)] \n",
    "\n",
    "num_steps_gnd, max_fidelity_gnd = get_data_fidelity(config, seeds)\n",
    "num_steps_gnd_traj, max_fidelity_gnd_traj = get_data_fidelity_trajectories(config, seeds)\n",
    "\n",
    "loaded_data[f\"{gate}_{ntrials}_{commute}_{max_steps}_fid\"] = (num_steps_gnd, max_fidelity_gnd)\n",
    "loaded_data[f\"{gate}_{ntrials}_{commute}_{max_steps}_fid_traj\"] = (num_steps_gnd_traj, max_fidelity_gnd_traj)"
   ]
  },
  {
   "cell_type": "code",
   "execution_count": null,
   "id": "6a534cf1",
   "metadata": {},
   "outputs": [],
   "source": [
    "gate = 'w3px'\n",
    "ntrials = 10\n",
    "commute = True\n",
    "max_steps = 10000\n",
    "\n",
    "num_steps_gnd, max_fidelity_gnd = loaded_data[f\"{gate}_{ntrials}_{commute}_{max_steps}_fid\"] \n",
    "name = f\"plots/{gate}_gate_fidelity_max_steps_{max_steps}_commutes_{commute}\"\n",
    "plot_fidelity(num_steps_gnd, max_fidelity_gnd, name, f\"Weight3ParityX ({'Comm.' if commute else 'Non-comm.'})\")"
   ]
  },
  {
   "cell_type": "markdown",
   "id": "93852044",
   "metadata": {},
   "source": [
    "### Non-commuting"
   ]
  },
  {
   "cell_type": "code",
   "execution_count": null,
   "id": "880d7d0a",
   "metadata": {},
   "outputs": [],
   "source": [
    "from gnd.src.configs import Weight3ParityXConfig\n",
    "\n",
    "config = Weight3ParityXConfig()\n",
    "\n",
    "gate = 'w3px'\n",
    "ntrials = 10\n",
    "commute = False\n",
    "max_steps = 10000\n",
    "\n",
    "config.max_steps = max_steps\n",
    "config.max_steps = max_steps\n",
    "config.commute = commute\n",
    "\n",
    "seeds = [n*256 for n in range(1, ntrials+1, 1)] \n",
    "\n",
    "num_steps_gnd, max_fidelity_gnd = get_data_fidelity(config, seeds)\n",
    "num_steps_gnd_traj, max_fidelity_gnd_traj = get_data_fidelity_trajectories(config, seeds)\n",
    "\n",
    "loaded_data[f\"{gate}_{ntrials}_{commute}_{max_steps}_fid\"] = (num_steps_gnd, max_fidelity_gnd)\n",
    "loaded_data[f\"{gate}_{ntrials}_{commute}_{max_steps}_fid_traj\"] = (num_steps_gnd_traj, max_fidelity_gnd_traj)"
   ]
  },
  {
   "cell_type": "code",
   "execution_count": null,
   "id": "e8d03ef1",
   "metadata": {},
   "outputs": [],
   "source": [
    "gate = 'w3px'\n",
    "ntrials = 10\n",
    "commute = False\n",
    "max_steps = 10000\n",
    "\n",
    "num_steps_gnd, max_fidelity_gnd = loaded_data[f\"{gate}_{ntrials}_{commute}_{max_steps}_fid\"] \n",
    "name = f\"plots/{gate}_gate_fidelity_max_steps_{max_steps}_commutes_{commute}\"\n",
    "plot_fidelity(num_steps_gnd, max_fidelity_gnd, name, f\"Weight3ParityX ({'Comm.' if commute else 'Non-comm.'})\")"
   ]
  },
  {
   "cell_type": "markdown",
   "id": "c94c787f",
   "metadata": {},
   "source": [
    "# Weight3ParityZ"
   ]
  },
  {
   "cell_type": "markdown",
   "id": "46dd6020",
   "metadata": {},
   "source": [
    "### Commuting"
   ]
  },
  {
   "cell_type": "code",
   "execution_count": null,
   "id": "e6dc3348",
   "metadata": {},
   "outputs": [],
   "source": [
    "from gnd.src.configs import Weight3ParityZConfig\n",
    "\n",
    "config = Weight3ParityZConfig()\n",
    "\n",
    "gate = 'w3pz'\n",
    "ntrials = 10\n",
    "commute = True\n",
    "max_steps = 10000\n",
    "\n",
    "config.max_steps = max_steps\n",
    "config.max_steps = max_steps\n",
    "config.commute = commute\n",
    "\n",
    "seeds = [n*256 for n in range(1, ntrials+1, 1)] \n",
    "\n",
    "num_steps_gnd, max_fidelity_gnd = get_data_fidelity(config, seeds)\n",
    "num_steps_gnd_traj, max_fidelity_gnd_traj = get_data_fidelity_trajectories(config, seeds)\n",
    "\n",
    "loaded_data[f\"{gate}_{ntrials}_{commute}_{max_steps}_fid\"] = (num_steps_gnd, max_fidelity_gnd)\n",
    "loaded_data[f\"{gate}_{ntrials}_{commute}_{max_steps}_fid_traj\"] = (num_steps_gnd_traj, max_fidelity_gnd_traj)"
   ]
  },
  {
   "cell_type": "code",
   "execution_count": null,
   "id": "0f5fe498",
   "metadata": {},
   "outputs": [],
   "source": [
    "gate = 'w3pz'\n",
    "ntrials = 10\n",
    "commute = True\n",
    "max_steps = 10000\n",
    "\n",
    "num_steps_gnd, max_fidelity_gnd= loaded_data[f\"{gate}_{ntrials}_{commute}_{max_steps}_fid\"] \n",
    "name = f\"plots/{gate}_gate_fidelity_max_steps_{max_steps}_commutes_{commute}\"\n",
    "plot_fidelity(num_steps_gnd, max_fidelity_gnd, name, f\"Weight3ParityZ ({'Comm.' if commute else 'Non-comm.'})\")"
   ]
  },
  {
   "cell_type": "markdown",
   "id": "0c7a9aae",
   "metadata": {},
   "source": [
    "### Non-commuting"
   ]
  },
  {
   "cell_type": "code",
   "execution_count": null,
   "id": "2a0bd1da",
   "metadata": {},
   "outputs": [],
   "source": [
    "from gnd.src.configs import Weight3ParityZConfig\n",
    "\n",
    "config = Weight3ParityZConfig()\n",
    "\n",
    "gate = 'w3pz'\n",
    "ntrials = 10\n",
    "commute = False\n",
    "max_steps = 10000\n",
    "\n",
    "config.max_steps = max_steps\n",
    "config.max_steps = max_steps\n",
    "config.commute = commute\n",
    "\n",
    "seeds = [n*256 for n in range(1, ntrials+1, 1)] \n",
    "\n",
    "num_steps_gnd, max_fidelity_gnd = get_data_fidelity(config, seeds)\n",
    "num_steps_gnd_traj, max_fidelity_gnd_traj = get_data_fidelity_trajectories(config, seeds)\n",
    "\n",
    "loaded_data[f\"{gate}_{ntrials}_{commute}_{max_steps}_fid\"] = (num_steps_gnd, max_fidelity_gnd)\n",
    "loaded_data[f\"{gate}_{ntrials}_{commute}_{max_steps}_fid_traj\"] = (num_steps_gnd_traj, max_fidelity_gnd_traj)"
   ]
  },
  {
   "cell_type": "code",
   "execution_count": null,
   "id": "71d15d44",
   "metadata": {},
   "outputs": [],
   "source": [
    "gate = 'w3pz'\n",
    "ntrials = 10\n",
    "commute = False\n",
    "max_steps = 10000\n",
    "\n",
    "num_steps_gnd, max_fidelity_gnd = loaded_data[f\"{gate}_{ntrials}_{commute}_{max_steps}_fid\"] \n",
    "name = f\"plots/{gate}_gate_fidelity_max_steps_{max_steps}_commutes_{commute}\"\n",
    "plot_fidelity(num_steps_gnd, max_fidelity_gnd, name, f\"Weight3ParityZ ({'Comm.' if commute else 'Non-comm.'})\")"
   ]
  },
  {
   "cell_type": "markdown",
   "id": "5d04dc5a",
   "metadata": {},
   "source": [
    "# Weight4ParityX"
   ]
  },
  {
   "cell_type": "markdown",
   "id": "703a8ba7",
   "metadata": {},
   "source": [
    "### Commuting"
   ]
  },
  {
   "cell_type": "code",
   "execution_count": null,
   "id": "8c35d961",
   "metadata": {},
   "outputs": [],
   "source": [
    "from gnd.src.configs import Weight4ParityXConfig\n",
    "\n",
    "config = Weight4ParityXConfig()\n",
    "\n",
    "gate = 'w4px'\n",
    "ntrials = 10\n",
    "commute = True\n",
    "max_steps = 10000\n",
    "\n",
    "config.max_steps = max_steps\n",
    "config.max_steps = max_steps\n",
    "config.commute = commute\n",
    "\n",
    "seeds = [n*256 for n in range(1, ntrials+1, 1)] \n",
    "\n",
    "num_steps_gnd, max_fidelity_gnd = get_data_fidelity(config, seeds)\n",
    "num_steps_gnd_traj, max_fidelity_gnd_traj = get_data_fidelity_trajectories(config, seeds)\n",
    "\n",
    "loaded_data[f\"{gate}_{ntrials}_{commute}_{max_steps}_fid\"] = (num_steps_gnd, max_fidelity_gnd)\n",
    "loaded_data[f\"{gate}_{ntrials}_{commute}_{max_steps}_fid_traj\"] = (num_steps_gnd_traj, max_fidelity_gnd_traj)"
   ]
  },
  {
   "cell_type": "code",
   "execution_count": null,
   "id": "a1c8c7df",
   "metadata": {},
   "outputs": [],
   "source": [
    "gate = 'w4px'\n",
    "ntrials = 10\n",
    "commute = True\n",
    "max_steps = 10000\n",
    "\n",
    "num_steps_gnd, max_fidelity_gnd = loaded_data[f\"{gate}_{ntrials}_{commute}_{max_steps}_fid\"] \n",
    "name = f\"plots/{gate}_gate_fidelity_max_steps_{max_steps}_commutes_{commute}\"\n",
    "plot_fidelity(num_steps_gnd, max_fidelity_gnd, name, f\"Weight4ParityX ({'Comm.' if commute else 'Non-comm.'})\")"
   ]
  },
  {
   "cell_type": "markdown",
   "id": "4afc0bba",
   "metadata": {},
   "source": [
    "### Non-commuting"
   ]
  },
  {
   "cell_type": "code",
   "execution_count": null,
   "id": "14afd21c",
   "metadata": {},
   "outputs": [],
   "source": [
    "from gnd.src.configs import Weight4ParityXConfig\n",
    "\n",
    "config = Weight4ParityXConfig()\n",
    "\n",
    "gate = 'w4px'\n",
    "ntrials = 10\n",
    "commute = False\n",
    "max_steps = 10000\n",
    "\n",
    "config.max_steps = max_steps\n",
    "config.max_steps = max_steps\n",
    "config.commute = commute\n",
    "\n",
    "seeds = [n*256 for n in range(1, ntrials+1, 1)] \n",
    "\n",
    "num_steps_gnd, max_fidelity_gnd = get_data_fidelity(config, seeds)\n",
    "num_steps_gnd_traj, max_fidelity_gnd_traj = get_data_fidelity_trajectories(config, seeds)\n",
    "\n",
    "loaded_data[f\"{gate}_{ntrials}_{commute}_{max_steps}_fid\"] = (num_steps_gnd, max_fidelity_gnd)\n",
    "loaded_data[f\"{gate}_{ntrials}_{commute}_{max_steps}_fid_traj\"] = (num_steps_gnd_traj, max_fidelity_gnd_traj)"
   ]
  },
  {
   "cell_type": "code",
   "execution_count": null,
   "id": "a0e928ba",
   "metadata": {},
   "outputs": [],
   "source": [
    "gate = 'w4px'\n",
    "ntrials = 10\n",
    "commute = False\n",
    "max_steps = 10000\n",
    "\n",
    "num_steps_gnd, max_fidelity_gnd = loaded_data[f\"{gate}_{ntrials}_{commute}_{max_steps}_fid\"] \n",
    "name = f\"plots/{gate}_gate_fidelity_max_steps_{max_steps}_commutes_{commute}\"\n",
    "plot_fidelity(num_steps_gnd, max_fidelity_gnd, name, f\"Weight4ParityX ({'Comm.' if commute else 'Non-comm.'})\")"
   ]
  },
  {
   "cell_type": "markdown",
   "id": "e009f908",
   "metadata": {},
   "source": [
    "# Weight4ParityZ"
   ]
  },
  {
   "cell_type": "markdown",
   "id": "1a305663",
   "metadata": {},
   "source": [
    "### commuting"
   ]
  },
  {
   "cell_type": "code",
   "execution_count": null,
   "id": "c46cac75",
   "metadata": {},
   "outputs": [],
   "source": [
    "from gnd.src.configs import Weight4ParityZConfig\n",
    "\n",
    "config = Weight4ParityZConfig()\n",
    "\n",
    "gate = 'w4pz'\n",
    "ntrials = 10\n",
    "commute = True\n",
    "max_steps = 10000\n",
    "\n",
    "config.max_steps = max_steps\n",
    "config.max_steps = max_steps\n",
    "config.commute = commute\n",
    "\n",
    "seeds = [n*256 for n in range(1, ntrials+1, 1)] \n",
    "\n",
    "num_steps_gnd, max_fidelity_gnd = get_data_fidelity(config, seeds)\n",
    "num_steps_gnd_traj, max_fidelity_gnd_traj = get_data_fidelity_trajectories(config, seeds)\n",
    "\n",
    "loaded_data[f\"{gate}_{ntrials}_{commute}_{max_steps}_fid\"] = (num_steps_gnd, max_fidelity_gnd)\n",
    "loaded_data[f\"{gate}_{ntrials}_{commute}_{max_steps}_fid_traj\"] = (num_steps_gnd_traj, max_fidelity_gnd_traj)"
   ]
  },
  {
   "cell_type": "code",
   "execution_count": null,
   "id": "3ff311ed",
   "metadata": {},
   "outputs": [],
   "source": [
    "gate = 'w4pz'\n",
    "ntrials = 10\n",
    "commute = True\n",
    "max_steps = 10000\n",
    "\n",
    "num_steps_gnd, max_fidelity_gnd = loaded_data[f\"{gate}_{ntrials}_{commute}_{max_steps}_fid\"] \n",
    "name = f\"plots/{gate}_gate_fidelity_max_steps_{max_steps}_commutes_{commute}\"\n",
    "plot_fidelity(num_steps_gnd, max_fidelity_gnd, name, f\"Weight4ParityZ ({'Comm.' if commute else 'Non-comm.'})\")"
   ]
  },
  {
   "cell_type": "markdown",
   "id": "50345b09",
   "metadata": {},
   "source": [
    "### Non-commuting"
   ]
  },
  {
   "cell_type": "code",
   "execution_count": null,
   "id": "c22835bb",
   "metadata": {},
   "outputs": [],
   "source": [
    "from gnd.src.configs import Weight4ParityZConfig\n",
    "\n",
    "config = Weight4ParityZConfig()\n",
    "\n",
    "gate = 'w4pz'\n",
    "ntrials = 10\n",
    "commute = False\n",
    "max_steps = 10000\n",
    "\n",
    "config.max_steps = max_steps\n",
    "config.max_steps = max_steps\n",
    "config.commute = commute\n",
    "\n",
    "seeds = [n*256 for n in range(1, ntrials+1, 1)] \n",
    "\n",
    "num_steps_gnd, max_fidelity_gnd = get_data_fidelity(config, seeds)\n",
    "num_steps_gnd_traj, max_fidelity_gnd_traj = get_data_fidelity_trajectories(config, seeds)\n",
    "\n",
    "loaded_data[f\"{gate}_{ntrials}_{commute}_{max_steps}_fid\"] = (num_steps_gnd, max_fidelity_gnd)\n",
    "loaded_data[f\"{gate}_{ntrials}_{commute}_{max_steps}_fid_traj\"] = (num_steps_gnd_traj, max_fidelity_gnd_traj)"
   ]
  },
  {
   "cell_type": "code",
   "execution_count": null,
   "id": "e778db0d",
   "metadata": {},
   "outputs": [],
   "source": [
    "gate = 'w4pz'\n",
    "ntrials = 10\n",
    "commute = False\n",
    "max_steps = 10000\n",
    "\n",
    "num_steps_gnd, max_fidelity_gnd = loaded_data[f\"{gate}_{ntrials}_{commute}_{max_steps}_fid\"] \n",
    "name = f\"plots/{gate}_gate_fidelity_max_steps_{max_steps}_commutes_{commute}\"\n",
    "plot_fidelity(num_steps_gnd, max_fidelity_gnd, name, f\"Weight4ParityZ ({'Comm.' if commute else 'Non-comm.'})\")"
   ]
  },
  {
   "cell_type": "markdown",
   "id": "77ae625a",
   "metadata": {},
   "source": [
    "# Combined Fidelity plot"
   ]
  },
  {
   "cell_type": "code",
   "execution_count": null,
   "id": "f2a9efa8",
   "metadata": {},
   "outputs": [],
   "source": [
    "ntrials = 10\n",
    "commute = False\n",
    "max_steps = 10000\n",
    "gate_list = ['w3px','w3pz','w4px','w4pz']\n",
    "\n",
    "fig, axs = plt.subplots(1,1)\n",
    "fig.set_size_inches(4,4)\n",
    "    \n",
    "for gate in gate_list:\n",
    "    num_steps_gnd, max_fidelity_gnd = loaded_data[f\"{gate}_{ntrials}_{commute}_{max_steps}_fid\"]\n",
    "    axs.scatter(num_steps_gnd[:5], 1 -  np.abs(max_fidelity_gnd)[:5], s=50, label=f\"{gate.upper()}\")\n",
    "axs.set_xlabel(f\"Steps to solution\", fontsize=fontsize_label)\n",
    "axs.set_ylabel(f\"Maximum infidelity\", fontsize=fontsize_label)\n",
    "axs.set_yscale('log')\n",
    "axs.set_xscale('log')\n",
    "axs.set_xlim(1, 10**4+1000)\n",
    "axs.set_ylim(1e-6, 1.)\n",
    "plt.legend()\n",
    "plt.savefig(f\"./plots/weighted_parity_combined_commute_{commute}.pdf\", bbox_inches='tight')\n",
    "plt.show()"
   ]
  },
  {
   "cell_type": "markdown",
   "id": "e858bde4",
   "metadata": {},
   "source": [
    "# Plot trajectories"
   ]
  },
  {
   "cell_type": "code",
   "execution_count": null,
   "id": "ffb47bae",
   "metadata": {},
   "outputs": [],
   "source": [
    "def smallest_values_after_iterations(arr):\n",
    "    n = len(arr)\n",
    "    result = []\n",
    "    min_value = np.inf  # Initialize min_value to positive infinity\n",
    "\n",
    "    for i in range(n):\n",
    "        min_value = min(min_value, arr[i])  # Update min_value if necessary\n",
    "        result.append(min_value)  # Append the current minimum value to the result array\n",
    "\n",
    "    return result"
   ]
  },
  {
   "cell_type": "code",
   "execution_count": null,
   "id": "0242e238",
   "metadata": {},
   "outputs": [],
   "source": [
    "import matplotlib.pyplot as plt\n",
    "import numpy as np\n",
    "import matplotlib.colors as mcolors\n",
    "\n",
    "# Define the hex colors\n",
    "hex_colors = [\n",
    "    '#E69F00', '#56B4E9', '#009E73', '#F0E442', '#0072B2', '#D55E00', '#CC79A7'\n",
    "]\n",
    "\n",
    "# Create a colormap from the hex colors\n",
    "\n",
    "ntrials = 10\n",
    "commute = False\n",
    "max_steps = 10000\n",
    "gate_list = ['w2px', 'w3px','w4px']\n",
    "# gate_list = ['w3px','w3pz','w4px','w4pz']\n",
    "\n",
    "fig, axs = plt.subplots(1,1)\n",
    "fig.set_size_inches(8,4)\n",
    "num_traj = 5\n",
    "# cmap = plt.get_cmap('tab10')\n",
    "cmap = mcolors.LinearSegmentedColormap.from_list(\"Custom Colormap\", hex_colors, N=len(hex_colors))\n",
    "\n",
    "colors = [cmap(i / len(hex_colors)) for i in range(len(gate_list))]\n",
    "for j, gate in enumerate(gate_list):\n",
    "    steps_gnd, fidelity_gnd = loaded_data[f\"{gate}_{ntrials}_{commute}_{max_steps}_fid_traj\"]\n",
    "    mean_times = []\n",
    "    for i in range(num_traj):\n",
    "        if not i:\n",
    "            axs.plot(steps_gnd[i], smallest_values_after_iterations(1 -  np.abs(fidelity_gnd[i])), label=rf\"$k={j+2}$\", color=colors[j])\n",
    "        else:\n",
    "            axs.plot(steps_gnd[i], smallest_values_after_iterations(1 -  np.abs(fidelity_gnd[i])), color=colors[j])\n",
    "    \n",
    "        idx = np.where(1-np.abs(fidelity_gnd[i]) <= 1e-3)[0]\n",
    "        if idx.size > 0:\n",
    "            mean_times.append(steps_gnd[i][idx[0]])\n",
    "    print(np.mean(mean_times))\n",
    "#         print(steps_gnd[i][np.mean()\n",
    "axs.set_xlabel(f\"Steps to solution\", fontsize=fontsize_label)\n",
    "axs.set_ylabel(f\"Minimum infidelity\", fontsize=fontsize_label)\n",
    "plt.xticks(fontsize=fontsize_ticks)\n",
    "plt.yticks(fontsize=fontsize_ticks)\n",
    "axs.set_yscale('log')\n",
    "axs.set_xscale('log')\n",
    "axs.set_xlim(0.8, 0.7*10**4+1000)\n",
    "axs.set_ylim(1e-3, 1.)\n",
    "plt.legend(prop={'size': 14})\n",
    "plt.savefig(f\"./plots/weighted_parity_x_fidelities_{commute}.pdf\", bbox_inches='tight')\n",
    "plt.show()"
   ]
  },
  {
   "cell_type": "code",
   "execution_count": null,
   "id": "6aa627ab",
   "metadata": {},
   "outputs": [],
   "source": [
    "import matplotlib.pyplot as plt\n",
    "import numpy as np\n",
    "import matplotlib.colors as mcolors\n",
    "\n",
    "# Define the hex colors\n",
    "hex_colors = ['#0072B2', '#D55E00', '#CC79A7']\n",
    "\n",
    "# Create a colormap from the hex colors\n",
    "\n",
    "ntrials = 10\n",
    "commute = False\n",
    "max_steps = 10000\n",
    "gate_list = ['w2pz', 'w3pz','w4pz']\n",
    "# gate_list = ['w3px','w3pz','w4px','w4pz']\n",
    "\n",
    "fig, axs = plt.subplots(1,1)\n",
    "fig.set_size_inches(8,4)\n",
    "num_traj = 5\n",
    "# cmap = plt.get_cmap('tab10')\n",
    "cmap = mcolors.LinearSegmentedColormap.from_list(\"Custom Colormap\", hex_colors, N=len(hex_colors))\n",
    "\n",
    "colors = [cmap(i / len(hex_colors)) for i in range(len(gate_list))]\n",
    "for j, gate in enumerate(gate_list):\n",
    "    steps_gnd, fidelity_gnd = loaded_data[f\"{gate}_{ntrials}_{commute}_{max_steps}_fid_traj\"]\n",
    "    mean_times = []\n",
    "    for i in range(num_traj):\n",
    "        if not i:\n",
    "            axs.plot(steps_gnd[i], smallest_values_after_iterations(1 -  np.abs(fidelity_gnd[i])), label=rf\"$k={j+2}$\", color=colors[j])\n",
    "        else:\n",
    "            axs.plot(steps_gnd[i], smallest_values_after_iterations(1 -  np.abs(fidelity_gnd[i])), color=colors[j])\n",
    "        idx = np.where(1-np.abs(fidelity_gnd[i]) <= 1e-3)[0]\n",
    "        if idx.size > 0:\n",
    "            mean_times.append(steps_gnd[i][idx[0]])\n",
    "    print(np.mean(mean_times))\n",
    "axs.set_xlabel(f\"Steps to solution\", fontsize=fontsize_label)\n",
    "axs.set_ylabel(f\"Minimum infidelity\", fontsize=fontsize_label)\n",
    "plt.xticks(fontsize=fontsize_ticks)\n",
    "plt.yticks(fontsize=fontsize_ticks)\n",
    "axs.set_yscale('log')\n",
    "axs.set_xscale('log')\n",
    "axs.set_xlim(0.8, 0.7*10**4)\n",
    "axs.set_ylim(1e-3, 1.)\n",
    "plt.legend(prop={'size': 14})\n",
    "plt.savefig(f\"./plots/weighted_parity_z_fidelities_{commute}.pdf\", bbox_inches='tight')\n",
    "plt.show()"
   ]
  },
  {
   "cell_type": "code",
   "execution_count": null,
   "id": "8872717b",
   "metadata": {},
   "outputs": [],
   "source": []
  },
  {
   "cell_type": "code",
   "execution_count": null,
   "id": "238ff0b0",
   "metadata": {},
   "outputs": [],
   "source": []
  },
  {
   "cell_type": "code",
   "execution_count": null,
   "id": "eb89933a",
   "metadata": {},
   "outputs": [],
   "source": []
  },
  {
   "cell_type": "code",
   "execution_count": null,
   "id": "d80ef8e5",
   "metadata": {},
   "outputs": [],
   "source": []
  }
 ],
 "metadata": {
  "kernelspec": {
   "display_name": "Python 3 (ipykernel)",
   "language": "python",
   "name": "python3"
  },
  "language_info": {
   "codemirror_mode": {
    "name": "ipython",
    "version": 3
   },
   "file_extension": ".py",
   "mimetype": "text/x-python",
   "name": "python",
   "nbconvert_exporter": "python",
   "pygments_lexer": "ipython3",
   "version": "3.9.16"
  }
 },
 "nbformat": 4,
 "nbformat_minor": 5
}
