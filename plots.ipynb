{
 "cells": [
  {
   "cell_type": "code",
   "execution_count": 1,
   "id": "b7f878e6",
   "metadata": {
    "pycharm": {
     "name": "#%%\n"
    }
   },
   "outputs": [],
   "source": [
    "import numpy as np\n",
    "import matplotlib.pyplot as plt\n",
    "import os"
   ]
  },
  {
   "cell_type": "code",
   "execution_count": 2,
   "id": "caf972ca",
   "metadata": {
    "pycharm": {
     "name": "#%%\n"
    }
   },
   "outputs": [],
   "source": [
    "from gnd.src import basis, data"
   ]
  },
  {
   "cell_type": "code",
   "execution_count": 3,
   "id": "b20257c7",
   "metadata": {
    "pycharm": {
     "name": "#%%\n"
    }
   },
   "outputs": [],
   "source": [
    "plt.rc(\"text\", usetex=True)\n",
    "font = {\"family\": \"serif\", \"size\": 16, \"serif\": [\"computer modern roman\"]}\n",
    "plt.rc(\"font\", **font)\n",
    "\n",
    "fontsize_title=22\n",
    "fontsize_label=18\n",
    "fontsize_legend=16\n",
    "fontsize_ticks=16"
   ]
  },
  {
   "cell_type": "code",
   "execution_count": 4,
   "id": "da166fcc",
   "metadata": {
    "pycharm": {
     "name": "#%%\n"
    }
   },
   "outputs": [],
   "source": [
    "from gnd.configs import ToffoliConfig, FredkinConfig, Weight2ParityZConfig, Weight4ParityXConfig, Weight4ParityZConfig\n",
    "config = ToffoliConfig()\n",
    "config2 = Weight2ParityZConfig()"
   ]
  },
  {
   "cell_type": "code",
   "execution_count": 5,
   "id": "e85935e6",
   "metadata": {
    "pycharm": {
     "name": "#%%\n"
    },
    "scrolled": false
   },
   "outputs": [
    {
     "name": "stdout",
     "output_type": "stream",
     "text": [
      "Collecting data for seed: 1\r",
      "Collecting data for seed: 256\r",
      "Collecting data for seed: 512\r",
      "Collecting data for seed: 768\r",
      "Collecting data for seed: 1024\r",
      "Collecting data for seed: 1280\r",
      "Collecting data for seed: 1536\r",
      "Collecting data for seed: 1792\r",
      "Collecting data for seed: 2048\r",
      "Collecting data for seed: 2304\r",
      "Collecting data for seed: 2560\r",
      "Collecting data for seed: 2816\r",
      "Collecting data for seed: 3072\r",
      "Collecting data for seed: 3328\r",
      "Collecting data for seed: 3584\r",
      "Collecting data for seed: 3840\r",
      "Collecting data for seed: 4096\r",
      "Collecting data for seed: 4352\r",
      "Collecting data for seed: 4608\r",
      "Collecting data for seed: 4864\r",
      "Collecting data for seed: 5120\r",
      "Collecting data for seed: 5376\r",
      "Collecting data for seed: 5632\r",
      "Collecting data for seed: 5888\r",
      "Collecting data for seed: 6144\r",
      "Collecting data for seed: 6400\r",
      "Collecting data for seed: 6656\r",
      "Collecting data for seed: 6912\r",
      "Collecting data for seed: 7168\r",
      "Collecting data for seed: 7424\r",
      "Collecting data for seed: 7680\r",
      "Collecting data for seed: 7936\r",
      "Collecting data for seed: 8192\r",
      "Collecting data for seed: 8448\r",
      "Collecting data for seed: 8704\r",
      "Collecting data for seed: 8960\r",
      "Collecting data for seed: 9216\r",
      "Collecting data for seed: 9472\r",
      "Collecting data for seed: 9728\r",
      "Collecting data for seed: 9984\r",
      "Collecting data for seed: 10240\r",
      "Collecting data for seed: 10496\r",
      "Collecting data for seed: 10752\r",
      "Collecting data for seed: 11008\r",
      "Collecting data for seed: 11264\r",
      "Collecting data for seed: 11520\r",
      "Collecting data for seed: 11776\r",
      "Collecting data for seed: 12032\r",
      "Collecting data for seed: 12288\r",
      "Collecting data for seed: 12544\r",
      "Collecting data for seed: 12800\r",
      "Collecting data for seed: 13056\r",
      "Collecting data for seed: 13312\r",
      "Collecting data for seed: 13568\r",
      "Collecting data for seed: 13824\r",
      "Collecting data for seed: 14080\r",
      "Collecting data for seed: 14336\r",
      "Collecting data for seed: 14592\r",
      "Collecting data for seed: 14848\r",
      "Collecting data for seed: 15104\r",
      "Collecting data for seed: 15360\r",
      "Collecting data for seed: 15616\r",
      "Collecting data for seed: 15872\r",
      "Collecting data for seed: 16128\r",
      "Collecting data for seed: 16384\r",
      "Collecting data for seed: 16640\r",
      "Collecting data for seed: 16896\r",
      "Collecting data for seed: 17152\r",
      "Collecting data for seed: 17408\r",
      "Collecting data for seed: 17664\r",
      "Collecting data for seed: 17920\r",
      "Collecting data for seed: 18176\r",
      "Collecting data for seed: 18432\r",
      "Collecting data for seed: 18688\r",
      "Collecting data for seed: 18944\r",
      "Collecting data for seed: 19200\r",
      "Collecting data for seed: 19456\r",
      "Collecting data for seed: 19712\r",
      "Collecting data for seed: 19968\r",
      "Collecting data for seed: 20224\r",
      "Collecting data for seed: 20480\r",
      "Collecting data for seed: 20736\r",
      "Collecting data for seed: 20992\r",
      "Collecting data for seed: 21248\r",
      "Collecting data for seed: 21504\r",
      "Collecting data for seed: 21760\r",
      "Collecting data for seed: 22016\r",
      "Collecting data for seed: 22272\r",
      "Collecting data for seed: 22528\r",
      "Collecting data for seed: 22784\r",
      "Collecting data for seed: 23040\r",
      "Collecting data for seed: 23296\r",
      "Collecting data for seed: 23552\r",
      "Collecting data for seed: 23808\r",
      "Collecting data for seed: 24064\r",
      "Collecting data for seed: 24320\r",
      "Collecting data for seed: 24576\r",
      "Collecting data for seed: 24832\r",
      "Collecting data for seed: 25088\r",
      "Collecting data for seed: 25344\r",
      "Collecting data for seed: 25600\r"
     ]
    },
    {
     "data": {
      "image/png": "[encoded data removed]",
      "text/plain": [
       "<Figure size 640x480 with 1 Axes>"
      ]
     },
     "metadata": {},
     "output_type": "display_data"
    }
   ],
   "source": [
    "b = basis.construct_full_pauli_basis(config.nqubits)\n",
    "\n",
    "# init_parameters = 2*np.random.rand(len(b.basis))-1\n",
    "# init_parameters = b.two_body_projection(init_parameters)\n",
    "\n",
    "# optimize = optimize.Optimizer(config.unitary, b, init_parameters, max_steps=3000)\n",
    "seeds = [1] + [n*256 for n in range(1,101,1)] \n",
    "\n",
    "num_steps = []\n",
    "num_steps2 = []\n",
    "for seed in seeds:\n",
    "    print(f\"Collecting data for seed: {seed}\", end=\"\\r\")\n",
    "    config.seed = seed        \n",
    "    config2.seed = seed\n",
    "    dat = data.OptimizationData(config, optimizers=[], load_data=True, folder=\"gnd/data\")\n",
    "    if dat.samples > 0:\n",
    "        num_steps.append(dat.steps(1)[-1])\n",
    "    dat2 = data.OptimizationData(config2, optimizers=[], load_data=True, folder=\"gnd/data\")\n",
    "    if dat2.samples > 0:\n",
    "        num_steps2.append(dat2.steps(1)[-1])\n",
    "\n",
    "plt.hist(num_steps, bins=[i+1 for i in range(80)], alpha=0.5, label=\"Toffoli\")\n",
    "plt.hist(num_steps2, bins=[i+1 for i in range(80)], alpha=0.5, label=\"Weight-2 Z parity\")\n",
    "plt.legend()\n",
    "plt.show()"
   ]
  },
  {
   "cell_type": "code",
   "execution_count": 6,
   "id": "77536774",
   "metadata": {
    "pycharm": {
     "name": "#%%\n"
    }
   },
   "outputs": [
    {
     "name": "stderr",
     "output_type": "stream",
     "text": [
      "WARNING:theano.configdefaults:install mkl with `conda install mkl-service`: No module named 'mkl'\n",
      "WARNING:theano.tensor.blas:Using NumPy C-API based implementation for BLAS functions.\n"
     ]
    }
   ],
   "source": [
    "from innocenti.configs import ToffoliConfig, FredkinConfig, Weight2ParityZConfig, Weight4ParityXConfig, Weight4ParityZConfig\n",
    "config = ToffoliConfig()\n",
    "config2 = FredkinConfig()"
   ]
  },
  {
   "cell_type": "code",
   "execution_count": 7,
   "id": "b3f13839",
   "metadata": {
    "pycharm": {
     "name": "#%%\n"
    },
    "scrolled": false
   },
   "outputs": [
    {
     "name": "stdout",
     "output_type": "stream",
     "text": [
      "Collecting data for seed: 25600\r"
     ]
    },
    {
     "data": {
      "image/png": "[encoded data removed]",
      "text/plain": [
       "<Figure size 640x480 with 1 Axes>"
      ]
     },
     "metadata": {},
     "output_type": "display_data"
    }
   ],
   "source": [
    "b = basis.construct_full_pauli_basis(config.nqubits)\n",
    "\n",
    "# init_parameters = 2*np.random.rand(len(b.basis))-1\n",
    "# init_parameters = b.two_body_projection(init_parameters)\n",
    "\n",
    "# optimize = optimize.Optimizer(config.unitary, b, init_parameters, max_steps=3000)\n",
    "seeds = [1] + [n*256 for n in range(1,101,1)] \n",
    "\n",
    "num_steps = []\n",
    "num_steps2 = []\n",
    "for seed in seeds:\n",
    "    print(f\"Collecting data for seed: {seed}\", end=\"\\r\")\n",
    "    config.seed = seed        \n",
    "    config2.seed = seed\n",
    "    dat = data.OptimizationData(config, optimizers=[], load_data=True, folder=\"innocenti/data\")\n",
    "    if dat.samples > 0:\n",
    "        num_steps.append(dat.steps(1)[-1])\n",
    "    dat2 = data.OptimizationData(config2, optimizers=[], load_data=True, folder=\"innocenti/data\")\n",
    "    if dat2.samples > 0:\n",
    "        num_steps2.append(dat2.steps(1)[-1])\n",
    "\n",
    "plt.hist(num_steps, bins=[i+1 for i in range(110)], alpha=0.5, label=\"Toffoli\")\n",
    "plt.hist(num_steps2, bins=[i+1 for i in range(110)], alpha=0.5, label=\"Fredkin\")\n",
    "plt.legend()\n",
    "plt.show()"
   ]
  },
  {
   "cell_type": "code",
   "execution_count": 8,
   "id": "620bdb3f",
   "metadata": {
    "pycharm": {
     "name": "#%%\n"
    }
   },
   "outputs": [],
   "source": [
    "from jax_gd.configs import ToffoliConfig, FredkinConfig, Weight2ParityZConfig, Weight4ParityXConfig, Weight4ParityZConfig\n",
    "config = ToffoliConfig()\n",
    "config2 = Weight2ParityZConfig()"
   ]
  },
  {
   "cell_type": "code",
   "execution_count": 9,
   "id": "dd043535",
   "metadata": {
    "pycharm": {
     "name": "#%%\n"
    }
   },
   "outputs": [
    {
     "name": "stdout",
     "output_type": "stream",
     "text": [
      "Collecting data for seed: 25600\r"
     ]
    },
    {
     "data": {
      "image/png": "[encoded data removed]",
      "text/plain": [
       "<Figure size 640x480 with 1 Axes>"
      ]
     },
     "metadata": {},
     "output_type": "display_data"
    }
   ],
   "source": [
    "b = basis.construct_full_pauli_basis(config.nqubits)\n",
    "\n",
    "# init_parameters = 2*np.random.rand(len(b.basis))-1\n",
    "# init_parameters = b.two_body_projection(init_parameters)\n",
    "\n",
    "# optimize = optimize.Optimizer(config.unitary, b, init_parameters, max_steps=3000)\n",
    "seeds = [1] + [n*256 for n in range(1,101,1)] \n",
    "\n",
    "num_steps = []\n",
    "num_steps2 = []\n",
    "for seed in seeds:\n",
    "    print(f\"Collecting data for seed: {seed}\", end=\"\\r\")\n",
    "    config.seed = seed        \n",
    "    config2.seed = seed\n",
    "    dat = data.OptimizationData(config, optimizers=[], load_data=True, folder=\"jax_gd/data\")\n",
    "    if dat.samples > 0:\n",
    "        num_steps.append(dat.steps(1)[-1])\n",
    "    dat2 = data.OptimizationData(config2, optimizers=[], load_data=True, folder=\"jax_gd/data\")\n",
    "    if dat2.samples > 0:\n",
    "        num_steps2.append(dat2.steps(1)[-1])\n",
    "\n",
    "plt.hist(num_steps, bins=[i+1 for i in range(200)], alpha=0.5, label=\"Toffoli\")\n",
    "plt.hist(num_steps2, bins=[i+1 for i in range(200)], alpha=0.5, label=\"Weight-2 Z parity\")\n",
    "plt.legend()\n",
    "plt.show()"
   ]
  },
  {
   "cell_type": "markdown",
   "id": "501ee52f",
   "metadata": {
    "pycharm": {
     "name": "#%% md\n"
    }
   },
   "source": [
    "Toffoli gate comparison"
   ]
  },
  {
   "cell_type": "code",
   "execution_count": null,
   "outputs": [],
   "source": [
    "from gnd.configs import ToffoliConfig as ToffoliConfigGnd\n",
    "config = ToffoliConfig()\n",
    "config_gnd = ToffoliConfigGnd()\n",
    "config.max_steps = 1000\n",
    "config_gnd.max_steps = 1000\n",
    "config_gnd.commute = False\n",
    "b = basis.construct_full_pauli_basis(config.nqubits)\n",
    "\n",
    "\n",
    "# init_parameters = 2*np.random.rand(len(b.basis))-1\n",
    "# init_parameters = b.two_body_projection(init_parameters)\n",
    "\n",
    "# optimize = optimize.Optimizer(config.unitary, b, init_parameters, max_steps=3000)\n",
    "seeds = [1] + [n*256 for n in range(1,101,1)] \n",
    "\n",
    "num_steps_gnd = []\n",
    "num_steps_sgd = []\n",
    "num_steps_jaxgd = []\n",
    "for seed in seeds:\n",
    "    print(f\"Collecting data for seed: {seed}\", end=\"\\r\")\n",
    "    config.seed = seed        \n",
    "    config2.seed = seed\n",
    "    config_gnd.seed = seed\n",
    "    dat_gnd = data.OptimizationData(config_gnd, optimizers=[], load_data=True, folder=\"gnd/data\")\n",
    "    if dat_gnd.samples > 0:\n",
    "        num_steps_gnd.append(dat_gnd.steps(1)[-1])\n",
    "    dat_sgd = data.OptimizationData(config, optimizers=[], load_data=True, folder=\"innocenti/data\")\n",
    "    if dat_sgd.samples > 0:\n",
    "        num_steps_sgd.append(dat_sgd.steps(1)[-1])\n",
    "    dat_jaxgd = data.OptimizationData(config, optimizers=[], load_data=True, folder=\"jax_gd/data\")\n",
    "    if dat_jaxgd.samples > 0:\n",
    "        num_steps_jaxgd.append(dat_jaxgd.steps(1)[-1])\n",
    "\n",
    "plt.figure(figsize=(8,5))\n",
    "plt.title(\"Toffoli gate\", fontsize=fontsize_title)\n",
    "plt.hist(num_steps_gnd, bins=[i+1 for i in range(110)], alpha=0.5, label=\"Geodesic algorithm\")\n",
    "plt.hist(num_steps_sgd, bins=[i+1 for i in range(110)], alpha=0.5, label=\"Stochastic gradient descent\")\n",
    "plt.hist(num_steps_jaxgd, bins=[i+1 for i in range(110)], alpha=0.5, label=\"JAX gradient descent\")\n",
    "plt.text(-20, 20.7, \"(a)\", fontsize=fontsize_title)\n",
    "plt.xticks([0,20,40,60,80,100], fontsize=fontsize_ticks)\n",
    "plt.yticks([2,4,6,8,10,12,14,16,18], fontsize=fontsize_ticks)\n",
    "plt.xlabel(\"Steps to solution\", fontsize=fontsize_label)\n",
    "plt.ylabel(\"Number of solutions (100 trials)\", fontsize=fontsize_label)\n",
    "plt.legend(fontsize=fontsize_legend)\n",
    "plt.savefig(f\"plots/toffoli_gate_comparison_max_steps{config.max_steps}.pdf\", bbox_inches='tight')\n",
    "plt.show()"
   ],
   "metadata": {
    "collapsed": false,
    "pycharm": {
     "name": "#%%\n"
    }
   }
  },
  {
   "cell_type": "markdown",
   "source": [
    "Fredkin gate comparison"
   ],
   "metadata": {
    "collapsed": false,
    "pycharm": {
     "name": "#%% md\n"
    }
   }
  },
  {
   "cell_type": "code",
   "execution_count": null,
   "outputs": [],
   "source": [
    "from gnd.configs import FredkinConfig as FredkinConfigGnd\n",
    "config = FredkinConfig()\n",
    "config_gnd = FredkinConfigGnd()\n",
    "config.max_steps = 1000\n",
    "config_gnd.max_steps = 1000\n",
    "config_gnd.commute = False\n",
    "b = basis.construct_full_pauli_basis(config.nqubits)\n",
    "\n",
    "\n",
    "# init_parameters = 2*np.random.rand(len(b.basis))-1\n",
    "# init_parameters = b.two_body_projection(init_parameters)\n",
    "\n",
    "# optimize = optimize.Optimizer(config.unitary, b, init_parameters, max_steps=3000)\n",
    "seeds = [1] + [n*256 for n in range(1,101,1)] \n",
    "\n",
    "num_steps_gnd = []\n",
    "num_steps_sgd = []\n",
    "num_steps_jaxgd = []\n",
    "for seed in seeds:\n",
    "    print(f\"Collecting data for seed: {seed}\", end=\"\\r\")\n",
    "    config.seed = seed        \n",
    "    config2.seed = seed\n",
    "    config_gnd.seed = seed\n",
    "    dat_gnd = data.OptimizationData(config_gnd, optimizers=[], load_data=True, folder=\"gnd/data\")\n",
    "    if dat_gnd.samples > 0:\n",
    "        num_steps_gnd.append(dat_gnd.steps(1)[-1])\n",
    "    dat_sgd = data.OptimizationData(config, optimizers=[], load_data=True, folder=\"innocenti/data\")\n",
    "    if dat_sgd.samples > 0:\n",
    "        num_steps_sgd.append(dat_sgd.steps(1)[-1])\n",
    "    dat_jaxgd = data.OptimizationData(config, optimizers=[], load_data=True, folder=\"jax_gd/data\")\n",
    "    if dat_jaxgd.samples > 0:\n",
    "        num_steps_jaxgd.append(dat_jaxgd.steps(1)[-1])\n",
    "\n",
    "plt.figure(figsize=(8,5))\n",
    "plt.title(\"Fredkin gate\", fontsize=fontsize_title)\n",
    "plt.hist(num_steps_gnd, bins=[i+1 for i in range(110)], alpha=0.5, label=\"Geodesic algorithm\")\n",
    "plt.hist(num_steps_sgd, bins=[i+1 for i in range(110)], alpha=0.5, label=\"Stochastic gradient descent\")\n",
    "plt.hist(num_steps_jaxgd, bins=[i+1 for i in range(110)], alpha=0.5, label=\"JAX gradient descent\")\n",
    "plt.text(-20, 20.7, \"(a)\", fontsize=fontsize_title)\n",
    "plt.xticks([0,20,40,60,80,100], fontsize=fontsize_ticks)\n",
    "plt.yticks([2,4,6,8,10,12,14,16,18], fontsize=fontsize_ticks)\n",
    "plt.xlabel(\"Steps to solution\", fontsize=fontsize_label)\n",
    "plt.ylabel(\"Number of solutions (100 trials)\", fontsize=fontsize_label)\n",
    "plt.legend(fontsize=fontsize_legend)\n",
    "plt.savefig(f\"plots/toffoli_gate_comparison_max_steps{config.max_steps}.pdf\", bbox_inches='tight')\n",
    "plt.show()"
   ],
   "metadata": {
    "collapsed": false,
    "pycharm": {
     "name": "#%%\n"
    }
   }
  },
  {
   "cell_type": "markdown",
   "source": [
    "5 qubit gates"
   ],
   "metadata": {
    "collapsed": false,
    "pycharm": {
     "name": "#%% md\n"
    }
   }
  },
  {
   "cell_type": "code",
   "execution_count": null,
   "outputs": [],
   "source": [
    "config = Weight4ParityXConfig()\n",
    "config.max_steps = 1000\n",
    "b = basis.construct_full_pauli_basis(config.nqubits)\n",
    "\n",
    "# init_parameters = 2*np.random.rand(len(b.basis))-1\n",
    "# init_parameters = b.two_body_projection(init_parameters)\n",
    "\n",
    "# optimize = optimize.Optimizer(config.unitary, b, init_parameters, max_steps=3000)\n",
    "seeds = [1] + [n*256 for n in range(1,101,1)] \n",
    "\n",
    "max_fidelity_gnd = []\n",
    "max_fidelity_sgd = []\n",
    "max_fidelity_jaxgd = []\n",
    "for seed in seeds:\n",
    "    print(f\"Collecting data for seed: {seed}\", end=\"\\r\")\n",
    "    config.seed = seed        \n",
    "    dat_gnd = data.OptimizationData(config, optimizers=[], load_data=True, folder=\"gnd/data\")\n",
    "    if dat_gnd.samples > 0:\n",
    "        max_fidelity_gnd.append(dat_gnd.max_fidelity(1))\n",
    "    dat_sgd = data.OptimizationData(config, optimizers=[], load_data=True, folder=\"innocenti/data\")\n",
    "    if dat_sgd.samples > 0:\n",
    "        max_fidelity_sgd.append(dat_sgd.max_fidelity(1))\n",
    "    dat_jaxgd = data.OptimizationData(config, optimizers=[], load_data=True, folder=\"jax_gd/data\")\n",
    "    if dat_jaxgd.samples > 0:\n",
    "        max_fidelity_jaxgd.append(dat_jaxgd.max_fidelity(1))\n",
    "\n",
    "plt.figure(figsize=(8,6))\n",
    "plt.title(\"Weight-4 X parity gate\", fontsize=fontsize_title)\n",
    "plt.hist(max_fidelity_gnd, bins=[0.9+(i+1)/1000 for i in range(100)], alpha=0.5, label=\"Geodesic algorithm\")\n",
    "plt.hist(max_fidelity_sgd, bins=[0.9+(i+1)/1000 for i in range(100)], alpha=0.5, label=\"Stochastic gradient descent\")\n",
    "plt.hist(max_fidelity_jaxgd, bins=[0.9+(i+1)/1000 for i in range(100)], alpha=0.5, label=\"JAX gradient descent\")\n",
    "# plt.xticks([0,20,40,60,80,100], fontsize=fontsize_ticks)\n",
    "# plt.yticks([2,4,6,8,10,12,14,16,18], fontsize=fontsize_ticks)\n",
    "plt.xlabel(f\"Maximum fidelity ({config.max_steps} steps)\", fontsize=fontsize_label)\n",
    "plt.ylabel(\"Number of solutions (100 trials)\", fontsize=fontsize_label)\n",
    "plt.legend(fontsize=fontsize_legend)\n",
    "plt.savefig(f\"plots/w4px_steps{config.max_steps}.pdf\", bbox_inches='tight')\n",
    "plt.show()"
   ],
   "metadata": {
    "collapsed": false,
    "pycharm": {
     "name": "#%%\n"
    }
   }
  },
  {
   "cell_type": "code",
   "execution_count": null,
   "outputs": [],
   "source": [
    "config = Weight4ParityZConfig()\n",
    "b = basis.construct_full_pauli_basis(config.nqubits)\n",
    "\n",
    "# init_parameters = 2*np.random.rand(len(b.basis))-1\n",
    "# init_parameters = b.two_body_projection(init_parameters)\n",
    "\n",
    "# optimize = optimize.Optimizer(config.unitary, b, init_parameters, max_steps=3000)\n",
    "seeds = [1] + [n*256 for n in range(1,101,1)] \n",
    "\n",
    "max_fidelity_gnd = []\n",
    "max_fidelity_sgd = []\n",
    "max_fidelity_jaxgd = []\n",
    "for seed in seeds:\n",
    "    print(f\"Collecting data for seed: {seed}\", end=\"\\r\")\n",
    "    config.seed = seed        \n",
    "    config2.seed = seed\n",
    "    dat_gnd = data.OptimizationData(config, optimizers=[], load_data=True, folder=\"gnd/data\")\n",
    "    if dat_gnd.samples > 0:\n",
    "        max_fidelity_gnd.append(dat_gnd.max_fidelity(1))\n",
    "    dat_sgd = data.OptimizationData(config, optimizers=[], load_data=True, folder=\"innocenti/data\")\n",
    "    if dat_sgd.samples > 0:\n",
    "        max_fidelity_sgd.append(dat_sgd.max_fidelity(1))\n",
    "    dat_jaxgd = data.OptimizationData(config, optimizers=[], load_data=True, folder=\"jax_gd/data\")\n",
    "    if dat_jaxgd.samples > 0:\n",
    "        max_fidelity_jaxgd.append(dat_jaxgd.max_fidelity(1))\n",
    "\n",
    "plt.figure(figsize=(8,6))\n",
    "plt.title(\"Weight-4 X parity gate\", fontsize=fontsize_title)\n",
    "plt.hist(max_fidelity_gnd, bins=[0.9+(i+1)/1000 for i in range(100)], alpha=0.5, label=\"Geodesic algorithm\")\n",
    "# plt.hist(max_fidelity_sgd, bins=[(i+1)/100 for i in range(100)], alpha=0.5, label=\"Stochastic gradient descent\")\n",
    "# plt.hist(max_fidelity_jaxgd, bins=[(i+1)/100 for i in range(100)], alpha=0.5, label=\"JAX gradient descent\")\n",
    "# plt.xticks([0,20,40,60,80,100], fontsize=fontsize_ticks)\n",
    "# plt.yticks([2,4,6,8,10,12,14,16,18], fontsize=fontsize_ticks)\n",
    "plt.xlabel(\"Maximum fidelity (1000 steps)\", fontsize=fontsize_label)\n",
    "plt.ylabel(\"Number of solutions (100 trials)\", fontsize=fontsize_label)\n",
    "plt.legend(fontsize=fontsize_legend)\n",
    "# plt.savefig(\"plots/.pdf\", bbox_inches='tight')\n",
    "plt.show()"
   ],
   "metadata": {
    "collapsed": false,
    "pycharm": {
     "name": "#%%\n"
    }
   }
  },
  {
   "cell_type": "code",
   "execution_count": null,
   "id": "ef89dc25",
   "metadata": {
    "pycharm": {
     "name": "#%%\n"
    }
   },
   "outputs": [],
   "source": []
  },
  {
   "cell_type": "code",
   "execution_count": null,
   "id": "29757e47",
   "metadata": {},
   "outputs": [],
   "source": []
  }
 ],
 "metadata": {
  "kernelspec": {
   "display_name": "Python 3 (ipykernel)",
   "language": "python",
   "name": "python3"
  },
  "language_info": {
   "codemirror_mode": {
    "name": "ipython",
    "version": 3
   },
   "file_extension": ".py",
   "mimetype": "text/x-python",
   "name": "python",
   "nbconvert_exporter": "python",
   "pygments_lexer": "ipython3",
   "version": "3.9.16"
  }
 },
 "nbformat": 4,
 "nbformat_minor": 5
}